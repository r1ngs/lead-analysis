{
 "cells": [
  {
   "cell_type": "code",
   "execution_count": null,
   "metadata": {},
   "outputs": [],
   "source": [
    "import pandas as pd"
   ]
  },
  {
   "cell_type": "code",
   "execution_count": null,
   "metadata": {},
   "outputs": [],
   "source": [
    "df = pd.read_csv('Childcare_Data_CA_2023.csv')\n",
    "df"
   ]
  },
  {
   "cell_type": "code",
   "execution_count": null,
   "metadata": {},
   "outputs": [],
   "source": [
    "df.drop(columns=['01/16/2024 Download Date\\nChild Care Center Lead\\nSampling Results','LabNumber','XMOD','RegOffice'])"
   ]
  },
  {
   "cell_type": "code",
   "execution_count": null,
   "metadata": {},
   "outputs": [],
   "source": [
    "id = pd.read_csv('dss_cleaned.csv')\n",
    "id.drop(columns=['Column'], inplace=True)\n",
    "id.rename(columns={'Facility Number':'Id'}, inplace=True)\n"
   ]
  },
  {
   "cell_type": "code",
   "execution_count": null,
   "metadata": {},
   "outputs": [],
   "source": [
    "merged_childcare = df.merge(id, on=\"Id\", how=\"outer\")\n",
    "merged_childcare.drop(columns=['County', 'City', 'Name'], inplace=True)\n",
    "merged_childcare"
   ]
  },
  {
   "cell_type": "code",
   "execution_count": null,
   "metadata": {},
   "outputs": [],
   "source": [
    "# Number of tests in each city.\n",
    "\n",
    "group1 = merged_childcare.groupby(['Facility City'])['Result'].count().reset_index()\n",
    "total_tests = group1['Result']\n",
    "\n",
    "#  Median test result\n",
    "\n",
    "group2 = merged_childcare.groupby(['Facility City'])['Result'].median().round(5).reset_index()\n",
    "median_result = group2['Result']\n",
    "\n",
    "# Total number of facilities per city.\n",
    "\n",
    "total_facilities = merged_childcare.groupby(['Facility City'])['Id'].nunique().reset_index(name='total_facilities')\n",
    "\n",
    "# Total number of facilities with a test.\n",
    "\n",
    "tested_facilities = merged_childcare[merged_childcare.Result.notnull()].groupby('Facility City')['Id'].nunique().reset_index(name='tested_facilities')\n",
    "\n",
    "# Number of tests in each city over 5ppb and 15ppb\n",
    "\n",
    "df_over5 = merged_childcare.groupby('Facility City')['Result'].apply(lambda x: (x>=5).sum()).reset_index(name='count')\n",
    "df_over15 = merged_childcare.groupby('Facility City')['Result'].apply(lambda x: (x>=15).sum()).reset_index(name='count')\n",
    "\n",
    "tests_5 = df_over5['count']\n",
    "tests_15 = df_over15['count']"
   ]
  },
  {
   "cell_type": "code",
   "execution_count": null,
   "metadata": {},
   "outputs": [],
   "source": [
    "final = total_facilities.merge(tested_facilities, on='Facility City', how='outer', )\n",
    "final['tested_facilities'].fillna(0, inplace=True)\n",
    "final['tested_facilities'] = final['tested_facilities'].astype(int)\n",
    "final['total_tests'] = total_tests\n",
    "final['median_result'] = median_result\n",
    "final['tests_5'] = tests_5\n",
    "final['tests_15'] = tests_15\n",
    "final"
   ]
  }
 ],
 "metadata": {
  "language_info": {
   "name": "python"
  }
 },
 "nbformat": 4,
 "nbformat_minor": 2
}
